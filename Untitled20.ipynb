{
  "nbformat": 4,
  "nbformat_minor": 0,
  "metadata": {
    "colab": {
      "name": "Untitled20.ipynb",
      "provenance": [],
      "authorship_tag": "ABX9TyMdcvyoBR0AqKVaL7MMSAyM",
      "include_colab_link": true
    },
    "kernelspec": {
      "name": "python3",
      "display_name": "Python 3"
    },
    "language_info": {
      "name": "python"
    }
  },
  "cells": [
    {
      "cell_type": "markdown",
      "metadata": {
        "id": "view-in-github",
        "colab_type": "text"
      },
      "source": [
        "<a href=\"https://colab.research.google.com/github/sangbin0106/Project/blob/main/Untitled20.ipynb\" target=\"_parent\"><img src=\"https://colab.research.google.com/assets/colab-badge.svg\" alt=\"Open In Colab\"/></a>"
      ]
    },
    {
      "cell_type": "code",
      "execution_count": null,
      "metadata": {
        "colab": {
          "base_uri": "https://localhost:8080/"
        },
        "id": "1Tu6w70UKk8_",
        "outputId": "5e8705ee-be69-481d-bb2d-1ffd5864f149"
      },
      "outputs": [
        {
          "output_type": "stream",
          "name": "stdout",
          "text": [
            "Drive already mounted at /content/drive; to attempt to forcibly remount, call drive.mount(\"/content/drive\", force_remount=True).\n"
          ]
        }
      ],
      "source": [
        "from google.colab import drive\n",
        "drive.mount('/content/drive')\n",
        "\n",
        "import io\n",
        "import pandas as pd\n",
        "import numpy as np\n",
        "import scipy\n",
        "import matplotlib.pyplot as plt"
      ]
    },
    {
      "cell_type": "code",
      "source": [
        "df_info = pd.read_csv(\"/content/drive/MyDrive/PJ3/Naver.csv\")\n",
        "df_info.tail()"
      ],
      "metadata": {
        "colab": {
          "base_uri": "https://localhost:8080/",
          "height": 441
        },
        "id": "3sRl-hj8bBzT",
        "outputId": "b8236a80-f1ac-4a0b-e62b-bbb7d312638d"
      },
      "execution_count": 29,
      "outputs": [
        {
          "output_type": "execute_result",
          "data": {
            "text/plain": [
              "     Unnamed: 0     title            artist          genre  \\\n",
              "513         513    다시 또 봄    코코넛베리,율림니 / 6S   ['스토리, 로맨스']   \n",
              "514         514      푸른불꽃               집손이  ['에피소드, 로맨스']   \n",
              "515         515        제타  팀솜사탕 / 반지은 / 시크크   ['스토리, 로맨스']   \n",
              "516         516  구해줘, 호구!       까를로스 / 범스테드   ['스토리, 스릴러']   \n",
              "517         517   짝사랑의 유서                우열   ['스토리, 스릴러']   \n",
              "\n",
              "                                                 story  \\\n",
              "513  [<p>새벽에 소설을 읽고 잠들었던 여주인공은 눈을 떠보니 소설의 남주인공, 황태자...   \n",
              "514  [<p>맵고 짜고 단거!에 환장하는 야식러버 예능 막내 피디 신달아.<br/>식단 ...   \n",
              "515  [<p>인생에 취향 따윈 NO!<br/>외모, 재력, 능력, 치명적인 매력까지 갖춘...   \n",
              "516  [<p>정의로운 경찰이자, 워킹맘으로 고군분투 홀로 아들 도연을 길러 낸 연희. <...   \n",
              "517  [<p>웹툰 작가 병호는 데뷔작을 끝낸 후, 1년이 넘도록 차기작을 내지 못하고 있...   \n",
              "\n",
              "                                             thumbnail  \\\n",
              "513  https://shared-comic.pstatic.net/thumb/webtoon...   \n",
              "514  https://shared-comic.pstatic.net/thumb/webtoon...   \n",
              "515  https://shared-comic.pstatic.net/thumb/webtoon...   \n",
              "516  https://shared-comic.pstatic.net/thumb/webtoon...   \n",
              "517  https://shared-comic.pstatic.net/thumb/webtoon...   \n",
              "\n",
              "                                                  link     score  \n",
              "513  https://comic.naver.com/webtoon/list?titleId=7...  9.880000  \n",
              "514  https://comic.naver.com/webtoon/list?titleId=7...  8.920000  \n",
              "515  https://comic.naver.com/webtoon/list?titleId=7...  9.890000  \n",
              "516  https://comic.naver.com/webtoon/list?titleId=7...  9.866667  \n",
              "517  https://comic.naver.com/webtoon/list?titleId=7...  9.803333  "
            ],
            "text/html": [
              "\n",
              "  <div id=\"df-b4638f89-5213-4c83-ad80-9bd0461848e4\">\n",
              "    <div class=\"colab-df-container\">\n",
              "      <div>\n",
              "<style scoped>\n",
              "    .dataframe tbody tr th:only-of-type {\n",
              "        vertical-align: middle;\n",
              "    }\n",
              "\n",
              "    .dataframe tbody tr th {\n",
              "        vertical-align: top;\n",
              "    }\n",
              "\n",
              "    .dataframe thead th {\n",
              "        text-align: right;\n",
              "    }\n",
              "</style>\n",
              "<table border=\"1\" class=\"dataframe\">\n",
              "  <thead>\n",
              "    <tr style=\"text-align: right;\">\n",
              "      <th></th>\n",
              "      <th>Unnamed: 0</th>\n",
              "      <th>title</th>\n",
              "      <th>artist</th>\n",
              "      <th>genre</th>\n",
              "      <th>story</th>\n",
              "      <th>thumbnail</th>\n",
              "      <th>link</th>\n",
              "      <th>score</th>\n",
              "    </tr>\n",
              "  </thead>\n",
              "  <tbody>\n",
              "    <tr>\n",
              "      <th>513</th>\n",
              "      <td>513</td>\n",
              "      <td>다시 또 봄</td>\n",
              "      <td>코코넛베리,율림니 / 6S</td>\n",
              "      <td>['스토리, 로맨스']</td>\n",
              "      <td>[&lt;p&gt;새벽에 소설을 읽고 잠들었던 여주인공은 눈을 떠보니 소설의 남주인공, 황태자...</td>\n",
              "      <td>https://shared-comic.pstatic.net/thumb/webtoon...</td>\n",
              "      <td>https://comic.naver.com/webtoon/list?titleId=7...</td>\n",
              "      <td>9.880000</td>\n",
              "    </tr>\n",
              "    <tr>\n",
              "      <th>514</th>\n",
              "      <td>514</td>\n",
              "      <td>푸른불꽃</td>\n",
              "      <td>집손이</td>\n",
              "      <td>['에피소드, 로맨스']</td>\n",
              "      <td>[&lt;p&gt;맵고 짜고 단거!에 환장하는 야식러버 예능 막내 피디 신달아.&lt;br/&gt;식단 ...</td>\n",
              "      <td>https://shared-comic.pstatic.net/thumb/webtoon...</td>\n",
              "      <td>https://comic.naver.com/webtoon/list?titleId=7...</td>\n",
              "      <td>8.920000</td>\n",
              "    </tr>\n",
              "    <tr>\n",
              "      <th>515</th>\n",
              "      <td>515</td>\n",
              "      <td>제타</td>\n",
              "      <td>팀솜사탕 / 반지은 / 시크크</td>\n",
              "      <td>['스토리, 로맨스']</td>\n",
              "      <td>[&lt;p&gt;인생에 취향 따윈 NO!&lt;br/&gt;외모, 재력, 능력, 치명적인 매력까지 갖춘...</td>\n",
              "      <td>https://shared-comic.pstatic.net/thumb/webtoon...</td>\n",
              "      <td>https://comic.naver.com/webtoon/list?titleId=7...</td>\n",
              "      <td>9.890000</td>\n",
              "    </tr>\n",
              "    <tr>\n",
              "      <th>516</th>\n",
              "      <td>516</td>\n",
              "      <td>구해줘, 호구!</td>\n",
              "      <td>까를로스 / 범스테드</td>\n",
              "      <td>['스토리, 스릴러']</td>\n",
              "      <td>[&lt;p&gt;정의로운 경찰이자, 워킹맘으로 고군분투 홀로 아들 도연을 길러 낸 연희. &lt;...</td>\n",
              "      <td>https://shared-comic.pstatic.net/thumb/webtoon...</td>\n",
              "      <td>https://comic.naver.com/webtoon/list?titleId=7...</td>\n",
              "      <td>9.866667</td>\n",
              "    </tr>\n",
              "    <tr>\n",
              "      <th>517</th>\n",
              "      <td>517</td>\n",
              "      <td>짝사랑의 유서</td>\n",
              "      <td>우열</td>\n",
              "      <td>['스토리, 스릴러']</td>\n",
              "      <td>[&lt;p&gt;웹툰 작가 병호는 데뷔작을 끝낸 후, 1년이 넘도록 차기작을 내지 못하고 있...</td>\n",
              "      <td>https://shared-comic.pstatic.net/thumb/webtoon...</td>\n",
              "      <td>https://comic.naver.com/webtoon/list?titleId=7...</td>\n",
              "      <td>9.803333</td>\n",
              "    </tr>\n",
              "  </tbody>\n",
              "</table>\n",
              "</div>\n",
              "      <button class=\"colab-df-convert\" onclick=\"convertToInteractive('df-b4638f89-5213-4c83-ad80-9bd0461848e4')\"\n",
              "              title=\"Convert this dataframe to an interactive table.\"\n",
              "              style=\"display:none;\">\n",
              "        \n",
              "  <svg xmlns=\"http://www.w3.org/2000/svg\" height=\"24px\"viewBox=\"0 0 24 24\"\n",
              "       width=\"24px\">\n",
              "    <path d=\"M0 0h24v24H0V0z\" fill=\"none\"/>\n",
              "    <path d=\"M18.56 5.44l.94 2.06.94-2.06 2.06-.94-2.06-.94-.94-2.06-.94 2.06-2.06.94zm-11 1L8.5 8.5l.94-2.06 2.06-.94-2.06-.94L8.5 2.5l-.94 2.06-2.06.94zm10 10l.94 2.06.94-2.06 2.06-.94-2.06-.94-.94-2.06-.94 2.06-2.06.94z\"/><path d=\"M17.41 7.96l-1.37-1.37c-.4-.4-.92-.59-1.43-.59-.52 0-1.04.2-1.43.59L10.3 9.45l-7.72 7.72c-.78.78-.78 2.05 0 2.83L4 21.41c.39.39.9.59 1.41.59.51 0 1.02-.2 1.41-.59l7.78-7.78 2.81-2.81c.8-.78.8-2.07 0-2.86zM5.41 20L4 18.59l7.72-7.72 1.47 1.35L5.41 20z\"/>\n",
              "  </svg>\n",
              "      </button>\n",
              "      \n",
              "  <style>\n",
              "    .colab-df-container {\n",
              "      display:flex;\n",
              "      flex-wrap:wrap;\n",
              "      gap: 12px;\n",
              "    }\n",
              "\n",
              "    .colab-df-convert {\n",
              "      background-color: #E8F0FE;\n",
              "      border: none;\n",
              "      border-radius: 50%;\n",
              "      cursor: pointer;\n",
              "      display: none;\n",
              "      fill: #1967D2;\n",
              "      height: 32px;\n",
              "      padding: 0 0 0 0;\n",
              "      width: 32px;\n",
              "    }\n",
              "\n",
              "    .colab-df-convert:hover {\n",
              "      background-color: #E2EBFA;\n",
              "      box-shadow: 0px 1px 2px rgba(60, 64, 67, 0.3), 0px 1px 3px 1px rgba(60, 64, 67, 0.15);\n",
              "      fill: #174EA6;\n",
              "    }\n",
              "\n",
              "    [theme=dark] .colab-df-convert {\n",
              "      background-color: #3B4455;\n",
              "      fill: #D2E3FC;\n",
              "    }\n",
              "\n",
              "    [theme=dark] .colab-df-convert:hover {\n",
              "      background-color: #434B5C;\n",
              "      box-shadow: 0px 1px 3px 1px rgba(0, 0, 0, 0.15);\n",
              "      filter: drop-shadow(0px 1px 2px rgba(0, 0, 0, 0.3));\n",
              "      fill: #FFFFFF;\n",
              "    }\n",
              "  </style>\n",
              "\n",
              "      <script>\n",
              "        const buttonEl =\n",
              "          document.querySelector('#df-b4638f89-5213-4c83-ad80-9bd0461848e4 button.colab-df-convert');\n",
              "        buttonEl.style.display =\n",
              "          google.colab.kernel.accessAllowed ? 'block' : 'none';\n",
              "\n",
              "        async function convertToInteractive(key) {\n",
              "          const element = document.querySelector('#df-b4638f89-5213-4c83-ad80-9bd0461848e4');\n",
              "          const dataTable =\n",
              "            await google.colab.kernel.invokeFunction('convertToInteractive',\n",
              "                                                     [key], {});\n",
              "          if (!dataTable) return;\n",
              "\n",
              "          const docLinkHtml = 'Like what you see? Visit the ' +\n",
              "            '<a target=\"_blank\" href=https://colab.research.google.com/notebooks/data_table.ipynb>data table notebook</a>'\n",
              "            + ' to learn more about interactive tables.';\n",
              "          element.innerHTML = '';\n",
              "          dataTable['output_type'] = 'display_data';\n",
              "          await google.colab.output.renderOutput(dataTable, element);\n",
              "          const docLink = document.createElement('div');\n",
              "          docLink.innerHTML = docLinkHtml;\n",
              "          element.appendChild(docLink);\n",
              "        }\n",
              "      </script>\n",
              "    </div>\n",
              "  </div>\n",
              "  "
            ]
          },
          "metadata": {},
          "execution_count": 29
        }
      ]
    },
    {
      "cell_type": "code",
      "source": [
        "import re\n",
        "s = 'blah blah <a href=\"blah\">link</a>'\n",
        "re.sub('<[^>]*>', '', s)\n",
        "'blah blah link'\n",
        "\n",
        "\n"
      ],
      "metadata": {
        "colab": {
          "base_uri": "https://localhost:8080/",
          "height": 35
        },
        "id": "UHoAgDkDd5H-",
        "outputId": "e6ef7a3a-c63f-41f8-9829-efc77f58fafc"
      },
      "execution_count": 32,
      "outputs": [
        {
          "output_type": "execute_result",
          "data": {
            "text/plain": [
              "'blah blah link'"
            ],
            "application/vnd.google.colaboratory.intrinsic+json": {
              "type": "string"
            }
          },
          "metadata": {},
          "execution_count": 32
        }
      ]
    },
    {
      "cell_type": "code",
      "source": [
        "import re\n",
        "s = 'blah blah <a href=\"blah\">link</a>'\n",
        "q = re.compile(r'<.*?>', re.IGNORECASE)\n",
        "re.sub(q, '', s)\n",
        "'blah blah link'\n",
        "\n"
      ],
      "metadata": {
        "colab": {
          "base_uri": "https://localhost:8080/",
          "height": 35
        },
        "id": "FnnwLuFlfDMT",
        "outputId": "60725197-c4b0-4481-a585-8fe48b0f97d2"
      },
      "execution_count": 36,
      "outputs": [
        {
          "output_type": "execute_result",
          "data": {
            "text/plain": [
              "'blah blah link'"
            ],
            "application/vnd.google.colaboratory.intrinsic+json": {
              "type": "string"
            }
          },
          "metadata": {},
          "execution_count": 36
        }
      ]
    },
    {
      "cell_type": "code",
      "source": [
        ""
      ],
      "metadata": {
        "colab": {
          "base_uri": "https://localhost:8080/",
          "height": 137
        },
        "id": "N0MWda3pfHTo",
        "outputId": "876190e3-bf10-4375-b0e7-2577762f1ca6"
      },
      "execution_count": 37,
      "outputs": [
        {
          "output_type": "error",
          "ename": "SyntaxError",
          "evalue": "ignored",
          "traceback": [
            "\u001b[0;36m  File \u001b[0;32m\"<ipython-input-37-27de24e6a2bb>\"\u001b[0;36m, line \u001b[0;32m1\u001b[0m\n\u001b[0;31m    blah blah link END\u001b[0m\n\u001b[0m            ^\u001b[0m\n\u001b[0;31mSyntaxError\u001b[0m\u001b[0;31m:\u001b[0m invalid syntax\n"
          ]
        }
      ]
    },
    {
      "cell_type": "code",
      "source": [
        "\n",
        "df_info.tail()"
      ],
      "metadata": {
        "colab": {
          "base_uri": "https://localhost:8080/",
          "height": 441
        },
        "outputId": "61ec1524-0309-4e74-dcc1-7a9169e0a6a7",
        "id": "4W6Ac1u4fQvm"
      },
      "execution_count": 38,
      "outputs": [
        {
          "output_type": "execute_result",
          "data": {
            "text/plain": [
              "     Unnamed: 0     title            artist          genre  \\\n",
              "513         513    다시 또 봄    코코넛베리,율림니 / 6S   ['스토리, 로맨스']   \n",
              "514         514      푸른불꽃               집손이  ['에피소드, 로맨스']   \n",
              "515         515        제타  팀솜사탕 / 반지은 / 시크크   ['스토리, 로맨스']   \n",
              "516         516  구해줘, 호구!       까를로스 / 범스테드   ['스토리, 스릴러']   \n",
              "517         517   짝사랑의 유서                우열   ['스토리, 스릴러']   \n",
              "\n",
              "                                                 story  \\\n",
              "513  [<p>새벽에 소설을 읽고 잠들었던 여주인공은 눈을 떠보니 소설의 남주인공, 황태자...   \n",
              "514  [<p>맵고 짜고 단거!에 환장하는 야식러버 예능 막내 피디 신달아.<br/>식단 ...   \n",
              "515  [<p>인생에 취향 따윈 NO!<br/>외모, 재력, 능력, 치명적인 매력까지 갖춘...   \n",
              "516  [<p>정의로운 경찰이자, 워킹맘으로 고군분투 홀로 아들 도연을 길러 낸 연희. <...   \n",
              "517  [<p>웹툰 작가 병호는 데뷔작을 끝낸 후, 1년이 넘도록 차기작을 내지 못하고 있...   \n",
              "\n",
              "                                             thumbnail  \\\n",
              "513  https://shared-comic.pstatic.net/thumb/webtoon...   \n",
              "514  https://shared-comic.pstatic.net/thumb/webtoon...   \n",
              "515  https://shared-comic.pstatic.net/thumb/webtoon...   \n",
              "516  https://shared-comic.pstatic.net/thumb/webtoon...   \n",
              "517  https://shared-comic.pstatic.net/thumb/webtoon...   \n",
              "\n",
              "                                                  link     score  \n",
              "513  https://comic.naver.com/webtoon/list?titleId=7...  9.880000  \n",
              "514  https://comic.naver.com/webtoon/list?titleId=7...  8.920000  \n",
              "515  https://comic.naver.com/webtoon/list?titleId=7...  9.890000  \n",
              "516  https://comic.naver.com/webtoon/list?titleId=7...  9.866667  \n",
              "517  https://comic.naver.com/webtoon/list?titleId=7...  9.803333  "
            ],
            "text/html": [
              "\n",
              "  <div id=\"df-3140779e-b83d-41be-88ad-eaaf6a6c6edc\">\n",
              "    <div class=\"colab-df-container\">\n",
              "      <div>\n",
              "<style scoped>\n",
              "    .dataframe tbody tr th:only-of-type {\n",
              "        vertical-align: middle;\n",
              "    }\n",
              "\n",
              "    .dataframe tbody tr th {\n",
              "        vertical-align: top;\n",
              "    }\n",
              "\n",
              "    .dataframe thead th {\n",
              "        text-align: right;\n",
              "    }\n",
              "</style>\n",
              "<table border=\"1\" class=\"dataframe\">\n",
              "  <thead>\n",
              "    <tr style=\"text-align: right;\">\n",
              "      <th></th>\n",
              "      <th>Unnamed: 0</th>\n",
              "      <th>title</th>\n",
              "      <th>artist</th>\n",
              "      <th>genre</th>\n",
              "      <th>story</th>\n",
              "      <th>thumbnail</th>\n",
              "      <th>link</th>\n",
              "      <th>score</th>\n",
              "    </tr>\n",
              "  </thead>\n",
              "  <tbody>\n",
              "    <tr>\n",
              "      <th>513</th>\n",
              "      <td>513</td>\n",
              "      <td>다시 또 봄</td>\n",
              "      <td>코코넛베리,율림니 / 6S</td>\n",
              "      <td>['스토리, 로맨스']</td>\n",
              "      <td>[&lt;p&gt;새벽에 소설을 읽고 잠들었던 여주인공은 눈을 떠보니 소설의 남주인공, 황태자...</td>\n",
              "      <td>https://shared-comic.pstatic.net/thumb/webtoon...</td>\n",
              "      <td>https://comic.naver.com/webtoon/list?titleId=7...</td>\n",
              "      <td>9.880000</td>\n",
              "    </tr>\n",
              "    <tr>\n",
              "      <th>514</th>\n",
              "      <td>514</td>\n",
              "      <td>푸른불꽃</td>\n",
              "      <td>집손이</td>\n",
              "      <td>['에피소드, 로맨스']</td>\n",
              "      <td>[&lt;p&gt;맵고 짜고 단거!에 환장하는 야식러버 예능 막내 피디 신달아.&lt;br/&gt;식단 ...</td>\n",
              "      <td>https://shared-comic.pstatic.net/thumb/webtoon...</td>\n",
              "      <td>https://comic.naver.com/webtoon/list?titleId=7...</td>\n",
              "      <td>8.920000</td>\n",
              "    </tr>\n",
              "    <tr>\n",
              "      <th>515</th>\n",
              "      <td>515</td>\n",
              "      <td>제타</td>\n",
              "      <td>팀솜사탕 / 반지은 / 시크크</td>\n",
              "      <td>['스토리, 로맨스']</td>\n",
              "      <td>[&lt;p&gt;인생에 취향 따윈 NO!&lt;br/&gt;외모, 재력, 능력, 치명적인 매력까지 갖춘...</td>\n",
              "      <td>https://shared-comic.pstatic.net/thumb/webtoon...</td>\n",
              "      <td>https://comic.naver.com/webtoon/list?titleId=7...</td>\n",
              "      <td>9.890000</td>\n",
              "    </tr>\n",
              "    <tr>\n",
              "      <th>516</th>\n",
              "      <td>516</td>\n",
              "      <td>구해줘, 호구!</td>\n",
              "      <td>까를로스 / 범스테드</td>\n",
              "      <td>['스토리, 스릴러']</td>\n",
              "      <td>[&lt;p&gt;정의로운 경찰이자, 워킹맘으로 고군분투 홀로 아들 도연을 길러 낸 연희. &lt;...</td>\n",
              "      <td>https://shared-comic.pstatic.net/thumb/webtoon...</td>\n",
              "      <td>https://comic.naver.com/webtoon/list?titleId=7...</td>\n",
              "      <td>9.866667</td>\n",
              "    </tr>\n",
              "    <tr>\n",
              "      <th>517</th>\n",
              "      <td>517</td>\n",
              "      <td>짝사랑의 유서</td>\n",
              "      <td>우열</td>\n",
              "      <td>['스토리, 스릴러']</td>\n",
              "      <td>[&lt;p&gt;웹툰 작가 병호는 데뷔작을 끝낸 후, 1년이 넘도록 차기작을 내지 못하고 있...</td>\n",
              "      <td>https://shared-comic.pstatic.net/thumb/webtoon...</td>\n",
              "      <td>https://comic.naver.com/webtoon/list?titleId=7...</td>\n",
              "      <td>9.803333</td>\n",
              "    </tr>\n",
              "  </tbody>\n",
              "</table>\n",
              "</div>\n",
              "      <button class=\"colab-df-convert\" onclick=\"convertToInteractive('df-3140779e-b83d-41be-88ad-eaaf6a6c6edc')\"\n",
              "              title=\"Convert this dataframe to an interactive table.\"\n",
              "              style=\"display:none;\">\n",
              "        \n",
              "  <svg xmlns=\"http://www.w3.org/2000/svg\" height=\"24px\"viewBox=\"0 0 24 24\"\n",
              "       width=\"24px\">\n",
              "    <path d=\"M0 0h24v24H0V0z\" fill=\"none\"/>\n",
              "    <path d=\"M18.56 5.44l.94 2.06.94-2.06 2.06-.94-2.06-.94-.94-2.06-.94 2.06-2.06.94zm-11 1L8.5 8.5l.94-2.06 2.06-.94-2.06-.94L8.5 2.5l-.94 2.06-2.06.94zm10 10l.94 2.06.94-2.06 2.06-.94-2.06-.94-.94-2.06-.94 2.06-2.06.94z\"/><path d=\"M17.41 7.96l-1.37-1.37c-.4-.4-.92-.59-1.43-.59-.52 0-1.04.2-1.43.59L10.3 9.45l-7.72 7.72c-.78.78-.78 2.05 0 2.83L4 21.41c.39.39.9.59 1.41.59.51 0 1.02-.2 1.41-.59l7.78-7.78 2.81-2.81c.8-.78.8-2.07 0-2.86zM5.41 20L4 18.59l7.72-7.72 1.47 1.35L5.41 20z\"/>\n",
              "  </svg>\n",
              "      </button>\n",
              "      \n",
              "  <style>\n",
              "    .colab-df-container {\n",
              "      display:flex;\n",
              "      flex-wrap:wrap;\n",
              "      gap: 12px;\n",
              "    }\n",
              "\n",
              "    .colab-df-convert {\n",
              "      background-color: #E8F0FE;\n",
              "      border: none;\n",
              "      border-radius: 50%;\n",
              "      cursor: pointer;\n",
              "      display: none;\n",
              "      fill: #1967D2;\n",
              "      height: 32px;\n",
              "      padding: 0 0 0 0;\n",
              "      width: 32px;\n",
              "    }\n",
              "\n",
              "    .colab-df-convert:hover {\n",
              "      background-color: #E2EBFA;\n",
              "      box-shadow: 0px 1px 2px rgba(60, 64, 67, 0.3), 0px 1px 3px 1px rgba(60, 64, 67, 0.15);\n",
              "      fill: #174EA6;\n",
              "    }\n",
              "\n",
              "    [theme=dark] .colab-df-convert {\n",
              "      background-color: #3B4455;\n",
              "      fill: #D2E3FC;\n",
              "    }\n",
              "\n",
              "    [theme=dark] .colab-df-convert:hover {\n",
              "      background-color: #434B5C;\n",
              "      box-shadow: 0px 1px 3px 1px rgba(0, 0, 0, 0.15);\n",
              "      filter: drop-shadow(0px 1px 2px rgba(0, 0, 0, 0.3));\n",
              "      fill: #FFFFFF;\n",
              "    }\n",
              "  </style>\n",
              "\n",
              "      <script>\n",
              "        const buttonEl =\n",
              "          document.querySelector('#df-3140779e-b83d-41be-88ad-eaaf6a6c6edc button.colab-df-convert');\n",
              "        buttonEl.style.display =\n",
              "          google.colab.kernel.accessAllowed ? 'block' : 'none';\n",
              "\n",
              "        async function convertToInteractive(key) {\n",
              "          const element = document.querySelector('#df-3140779e-b83d-41be-88ad-eaaf6a6c6edc');\n",
              "          const dataTable =\n",
              "            await google.colab.kernel.invokeFunction('convertToInteractive',\n",
              "                                                     [key], {});\n",
              "          if (!dataTable) return;\n",
              "\n",
              "          const docLinkHtml = 'Like what you see? Visit the ' +\n",
              "            '<a target=\"_blank\" href=https://colab.research.google.com/notebooks/data_table.ipynb>data table notebook</a>'\n",
              "            + ' to learn more about interactive tables.';\n",
              "          element.innerHTML = '';\n",
              "          dataTable['output_type'] = 'display_data';\n",
              "          await google.colab.output.renderOutput(dataTable, element);\n",
              "          const docLink = document.createElement('div');\n",
              "          docLink.innerHTML = docLinkHtml;\n",
              "          element.appendChild(docLink);\n",
              "        }\n",
              "      </script>\n",
              "    </div>\n",
              "  </div>\n",
              "  "
            ]
          },
          "metadata": {},
          "execution_count": 38
        }
      ]
    },
    {
      "cell_type": "code",
      "source": [
        "\n",
        "!pip install stripogram"
      ],
      "metadata": {
        "colab": {
          "base_uri": "https://localhost:8080/"
        },
        "id": "38J0mmBggSF_",
        "outputId": "efcb83c1-589e-4fcc-f980-4c007157eadf"
      },
      "execution_count": 41,
      "outputs": [
        {
          "output_type": "stream",
          "name": "stdout",
          "text": [
            "Collecting stripogram\n",
            "  Downloading stripogram-1.5.tar.gz (12 kB)\n",
            "Building wheels for collected packages: stripogram\n",
            "  Building wheel for stripogram (setup.py) ... \u001b[?25l\u001b[?25hdone\n",
            "  Created wheel for stripogram: filename=stripogram-1.5-py3-none-any.whl size=11502 sha256=7aa1e0b1133f2031dd2d613ddc69ac29a6e78dfa561f62b828e24266a40e25ec\n",
            "  Stored in directory: /root/.cache/pip/wheels/e8/39/91/c470b15102ec4d896da277a627ef789e12e3cc98acdde4c4d9\n",
            "Successfully built stripogram\n",
            "Installing collected packages: stripogram\n",
            "Successfully installed stripogram-1.5\n"
          ]
        }
      ]
    },
    {
      "cell_type": "code",
      "source": [
        "from stripogram import html2text, html2safehtml,mylumpofdodgyhtml # a lump of dodgy html ;-)\n",
        "  # Only allow <b>, <a>, <i>, <br>, and <p> tags\n",
        "  mylumpofcoolcleancollectedhtml = html2safehtml(mylumpofdodgyhtml,valid_tags=(\"b\", \"a\", \"i\", \"br\", \"p\"))\n",
        "  # Don't process <img> tags, just strip them out. Use an indent of 4 spaces \n",
        "  # and a page that's 80 characters wide.\n",
        "  mylumpoftext = html2text(mylumpofcoolcleancollectedhtml,ignore_tags=(\"img\",),indent_width=4,page_width=80)\n",
        "\n",
        "\n"
      ],
      "metadata": {
        "colab": {
          "base_uri": "https://localhost:8080/",
          "height": 137
        },
        "id": "vS_siDMLgMhC",
        "outputId": "e03f3aa1-a606-4e33-e4bf-35522461ea9f"
      },
      "execution_count": 42,
      "outputs": [
        {
          "output_type": "error",
          "ename": "IndentationError",
          "evalue": "ignored",
          "traceback": [
            "\u001b[0;36m  File \u001b[0;32m\"<ipython-input-42-47440ebb62e7>\"\u001b[0;36m, line \u001b[0;32m3\u001b[0m\n\u001b[0;31m    mylumpofcoolcleancollectedhtml = html2safehtml(mylumpofdodgyhtml,valid_tags=(\"b\", \"a\", \"i\", \"br\", \"p\"))\u001b[0m\n\u001b[0m    ^\u001b[0m\n\u001b[0;31mIndentationError\u001b[0m\u001b[0;31m:\u001b[0m unexpected indent\n"
          ]
        }
      ]
    }
  ]
}